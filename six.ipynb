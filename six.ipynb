{
 "cells": [
  {
   "cell_type": "code",
   "execution_count": 57,
   "metadata": {},
   "outputs": [
    {
     "name": "stdout",
     "output_type": "stream",
     "text": [
      "This is Program 6 - Mere\n",
      "This program practices working with lists, strings, tuples, and dictionaries.\n"
     ]
    }
   ],
   "source": [
    "print(f'This is Program 6 - Mere')\n",
    "print('This program practices working with lists, strings, tuples, and dictionaries.')"
   ]
  },
  {
   "cell_type": "code",
   "execution_count": 59,
   "metadata": {},
   "outputs": [],
   "source": [
    "# step 3: create two tuples\n",
    "weeks = ('Week 1', 'Week 2')\n",
    "days = ('Thursday', 'Friday', 'Saturday')"
   ]
  },
  {
   "cell_type": "code",
   "execution_count": 60,
   "metadata": {},
   "outputs": [
    {
     "name": "stdout",
     "output_type": "stream",
     "text": [
      "Enter \"e\" to exit.\n",
      "Input name: Greg\n",
      "Input dealership: Mazda of Troy\n",
      "\n",
      "\n",
      "Enter \"e\" to exit.\n",
      "Input name: Jenny\n",
      "Input dealership: Racist Toyota\n",
      "\n",
      "\n",
      "Enter \"e\" to exit.\n",
      "Input name: Mere\n",
      "Input dealership: Sprinter CRV Honda\n",
      "\n",
      "\n",
      "Enter \"e\" to exit.\n",
      "Input name: e\n"
     ]
    }
   ],
   "source": [
    "# step 4 & 5: names and dealership data dictionary\n",
    "n_data = dict()\n",
    "\n",
    "while True:\n",
    "    name = input('Enter \"e\" to exit.\\nInput name: ')\n",
    "    if name == \"e\":\n",
    "        break\n",
    "    else:\n",
    "        dealership = input('Input dealership: ')\n",
    "        print('\\n')\n",
    "        n_data[name] = dealership"
   ]
  },
  {
   "cell_type": "code",
   "execution_count": 61,
   "metadata": {},
   "outputs": [
    {
     "name": "stdout",
     "output_type": "stream",
     "text": [
      "Greg / Week 1 / Thursday sales: 1\n",
      "Greg / Week 1 / Friday sales: 2\n",
      "Greg / Week 1 / Saturday sales: 3\n",
      "Greg / Week 2 / Thursday sales: 4\n",
      "Greg / Week 2 / Friday sales: 5\n",
      "Greg / Week 2 / Saturday sales: 6\n",
      "Jenny / Week 1 / Thursday sales: 7\n",
      "Jenny / Week 1 / Friday sales: 8\n",
      "Jenny / Week 1 / Saturday sales: 9\n",
      "Jenny / Week 2 / Thursday sales: 10\n",
      "Jenny / Week 2 / Friday sales: 11\n",
      "Jenny / Week 2 / Saturday sales: 12\n",
      "Mere / Week 1 / Thursday sales: 13\n",
      "Mere / Week 1 / Friday sales: 14\n",
      "Mere / Week 1 / Saturday sales: 15\n",
      "Mere / Week 2 / Thursday sales: 16\n",
      "Mere / Week 2 / Friday sales: 17\n",
      "Mere / Week 2 / Saturday sales: 18\n"
     ]
    },
    {
     "data": {
      "text/plain": [
       "[[7, 8, 9, 0, 1, 2], [7, 8, 9, 0, 1, 2], [7, 8, 9, 0, 1, 2]]"
      ]
     },
     "execution_count": 61,
     "metadata": {},
     "output_type": "execute_result"
    }
   ],
   "source": [
    "# step 6, 7, & 8: create sales data\n",
    "staff_sales = list()\n",
    "\n",
    "for rep in n_data.keys():\n",
    "    rep_sales = list()\n",
    "    for week in weeks:\n",
    "        for day in days:\n",
    "            rep_sales.append(int(input(f'{rep} / {week} / {day} sales: ')))\n",
    "    staff_sales.append(person_sales)\n",
    "    \n",
    "staff_sales"
   ]
  },
  {
   "cell_type": "code",
   "execution_count": 62,
   "metadata": {},
   "outputs": [
    {
     "name": "stdout",
     "output_type": "stream",
     "text": [
      "Enter a compliment: We thought Jenny was great but she smelled bad\n",
      "Thank you for compliment number 1\n",
      "Enter a compliment: Greg gave the best service ever\n",
      "Thank you for compliment number 2\n",
      "Enter a compliment: We spoke to Mere and loved her\n",
      "Thank you for compliment number 3\n",
      "Enter a compliment: I think Honda suck\n",
      "Thank you for compliment number 4\n",
      "Enter a compliment: Liberty city rulez!!!11\n",
      "Thank you for compliment number 5\n",
      "Enter a compliment: Jenny is the kindest!\n",
      "Thank you for compliment number 6\n",
      "Enter a compliment: Leo smells really bad but Mere was great!\n",
      "Thank you for compliment number 7\n",
      "Enter a compliment: I can't find any mangos here\n",
      "Thank you for compliment number 8\n",
      "Enter a compliment: I don't like cars but if I did I'd ride with Mere sometime\n",
      "Thank you for compliment number 9\n",
      "Enter a compliment: What is a car!?\n",
      "Thank you for compliment number 10\n",
      "Enter a compliment: Cars stink, I take the bus with Greg\n",
      "Thank you for compliment number 11\n",
      "Enter a compliment: Greg knows what's up\n",
      "Thank you for compliment number 12\n",
      "Enter a compliment: Jenny is very small and we didnt' see her at first\n",
      "Thank you for compliment number 13\n",
      "Enter a compliment: I think Mere is better than Leo\n",
      "Thank you for compliment number 14\n",
      "Enter a compliment: Mere was the best at it\n",
      "Thank you for compliment number 15\n",
      "Enter a compliment: I like cheese\n",
      "Thank you for compliment number 16\n",
      "Enter a compliment: Did you know that Jenny is tiny?\n",
      "Thank you for compliment number 17\n",
      "Enter a compliment: Writing compliments is hard\n",
      "Thank you for compliment number 18\n",
      "Enter a compliment: Not as hard as doing it for Greg!\n",
      "Thank you for compliment number 19\n",
      "Enter a compliment: Greg loves ham!\n",
      "Thank you for compliment number 20\n"
     ]
    }
   ],
   "source": [
    "# step 9: create compliments (not assigned to a specific rep)\n",
    "\n",
    "compliments = list()\n",
    "\n",
    "while len(compliments) < 20:\n",
    "    compliments.append(input(\"Enter a compliment: \"))\n",
    "    print(f'Thank you for compliment number {len(compliments)}')"
   ]
  },
  {
   "cell_type": "code",
   "execution_count": 63,
   "metadata": {},
   "outputs": [
    {
     "data": {
      "text/plain": [
       "{'Greg': 5, 'Jenny': 4, 'Mere': 5}"
      ]
     },
     "execution_count": 63,
     "metadata": {},
     "output_type": "execute_result"
    }
   ],
   "source": [
    "# step 10: count compliments and assign to reps\n",
    "\n",
    "c_dict = dict()\n",
    "\n",
    "for rep in n_data.keys():\n",
    "    # initialize rep's comments to zero\n",
    "    c_dict[rep] = 0\n",
    "    for compliment in compliments:\n",
    "        if compliment.find(rep) >= 0:\n",
    "            c_dict[rep] += 1\n",
    "c_dict"
   ]
  },
  {
   "cell_type": "code",
   "execution_count": 64,
   "metadata": {},
   "outputs": [
    {
     "name": "stdout",
     "output_type": "stream",
     "text": [
      "Greg of Mazda of Troy\n",
      "Week 1\n",
      "Thursday: 7\n",
      "Friday: 8\n",
      "Saturday: 9\n",
      "Week 2\n",
      "Thursday: 7\n",
      "Friday: 8\n",
      "Saturday: 9\n",
      "Total cars sold: 27\n",
      "Average cars sold: 4.5\n",
      "Total compliments: 5\n",
      "\n",
      "\n",
      "Jenny of Racist Toyota\n",
      "Week 1\n",
      "Thursday: 7\n",
      "Friday: 8\n",
      "Saturday: 9\n",
      "Week 2\n",
      "Thursday: 7\n",
      "Friday: 8\n",
      "Saturday: 9\n",
      "Total cars sold: 27\n",
      "Average cars sold: 4.5\n",
      "Total compliments: 4\n",
      "\n",
      "\n",
      "Mere of Sprinter CRV Honda\n",
      "Week 1\n",
      "Thursday: 7\n",
      "Friday: 8\n",
      "Saturday: 9\n",
      "Week 2\n",
      "Thursday: 7\n",
      "Friday: 8\n",
      "Saturday: 9\n",
      "Total cars sold: 27\n",
      "Average cars sold: 4.5\n",
      "Total compliments: 5\n",
      "\n",
      "\n"
     ]
    }
   ],
   "source": [
    "# step 11: print out summary\n",
    "\n",
    "for (rep_name, rep_dealership), rep_sales in zip(n_data.items(), staff_sales):\n",
    "    print(f'{rep_name} of {rep_dealership}')\n",
    "    for week in weeks:\n",
    "        print(week)\n",
    "        for day, rep_sale in zip(days, rep_sales):\n",
    "            print(f'{day}: {rep_sale}')\n",
    "    print(f'Total cars sold: {sum(rep_sales)}')\n",
    "    print(f'Average cars sold: {sum(rep_sales)/len(rep_sales)}')\n",
    "    print(f'Total compliments: {c_dict[rep_name]}')\n",
    "    print('\\n')"
   ]
  }
 ],
 "metadata": {
  "kernelspec": {
   "display_name": "Python 3",
   "language": "python",
   "name": "python3"
  },
  "language_info": {
   "codemirror_mode": {
    "name": "ipython",
    "version": 3
   },
   "file_extension": ".py",
   "mimetype": "text/x-python",
   "name": "python",
   "nbconvert_exporter": "python",
   "pygments_lexer": "ipython3",
   "version": "3.7.2"
  }
 },
 "nbformat": 4,
 "nbformat_minor": 2
}
